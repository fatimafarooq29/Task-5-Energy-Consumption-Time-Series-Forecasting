{
 "cells": [
  {
   "cell_type": "markdown",
   "id": "1563f096-fcf3-4867-807b-4ddf5eeafb2b",
   "metadata": {},
   "source": [
    "**Time Series Data**\n",
    "\n",
    "\n",
    "\n",
    "\n",
    "-Data collected over time, in order (e.g., hourly electricity usage, daily temperature).\n",
    "\n",
    "\n",
    "\n",
    "\n",
    "\n",
    "\n",
    "\n",
    "-Important because values often depend on previous time points."
   ]
  },
  {
   "cell_type": "code",
   "execution_count": 1,
   "id": "2cd1cf08-1420-4c4c-877e-92fc8c340f40",
   "metadata": {},
   "outputs": [
    {
     "name": "stdout",
     "output_type": "stream",
     "text": [
      "Requirement already satisfied: pandas in e:\\python\\lib\\site-packages (2.3.2)\n",
      "Requirement already satisfied: numpy in e:\\python\\lib\\site-packages (1.26.4)\n",
      "Requirement already satisfied: matplotlib in e:\\python\\lib\\site-packages (3.10.1)\n",
      "Requirement already satisfied: seaborn in e:\\python\\lib\\site-packages (0.13.2)\n",
      "Requirement already satisfied: scikit-learn in e:\\python\\lib\\site-packages (1.7.1)\n",
      "Requirement already satisfied: statsmodels in e:\\python\\lib\\site-packages (0.14.5)\n",
      "Requirement already satisfied: prophet in e:\\python\\lib\\site-packages (1.1.7)\n",
      "Requirement already satisfied: xgboost in e:\\python\\lib\\site-packages (3.0.4)\n",
      "Requirement already satisfied: python-dateutil>=2.8.2 in e:\\python\\lib\\site-packages (from pandas) (2.9.0.post0)\n",
      "Requirement already satisfied: pytz>=2020.1 in e:\\python\\lib\\site-packages (from pandas) (2025.2)\n",
      "Requirement already satisfied: tzdata>=2022.7 in e:\\python\\lib\\site-packages (from pandas) (2025.2)\n",
      "Requirement already satisfied: contourpy>=1.0.1 in e:\\python\\lib\\site-packages (from matplotlib) (1.3.1)\n",
      "Requirement already satisfied: cycler>=0.10 in e:\\python\\lib\\site-packages (from matplotlib) (0.12.1)\n",
      "Requirement already satisfied: fonttools>=4.22.0 in e:\\python\\lib\\site-packages (from matplotlib) (4.56.0)\n",
      "Requirement already satisfied: kiwisolver>=1.3.1 in e:\\python\\lib\\site-packages (from matplotlib) (1.4.8)\n",
      "Requirement already satisfied: packaging>=20.0 in e:\\python\\lib\\site-packages (from matplotlib) (25.0)\n",
      "Requirement already satisfied: pillow>=8 in e:\\python\\lib\\site-packages (from matplotlib) (11.1.0)\n",
      "Requirement already satisfied: pyparsing>=2.3.1 in e:\\python\\lib\\site-packages (from matplotlib) (3.2.1)\n",
      "Requirement already satisfied: scipy>=1.8.0 in e:\\python\\lib\\site-packages (from scikit-learn) (1.16.1)\n",
      "Requirement already satisfied: joblib>=1.2.0 in e:\\python\\lib\\site-packages (from scikit-learn) (1.5.1)\n",
      "Requirement already satisfied: threadpoolctl>=3.1.0 in e:\\python\\lib\\site-packages (from scikit-learn) (3.6.0)\n",
      "Requirement already satisfied: patsy>=0.5.6 in e:\\python\\lib\\site-packages (from statsmodels) (1.0.1)\n",
      "Requirement already satisfied: cmdstanpy>=1.0.4 in e:\\python\\lib\\site-packages (from prophet) (1.2.5)\n",
      "Requirement already satisfied: holidays<1,>=0.25 in e:\\python\\lib\\site-packages (from prophet) (0.79)\n",
      "Requirement already satisfied: tqdm>=4.36.1 in e:\\python\\lib\\site-packages (from prophet) (4.67.1)\n",
      "Requirement already satisfied: importlib_resources in e:\\python\\lib\\site-packages (from prophet) (6.5.2)\n",
      "Requirement already satisfied: stanio<2.0.0,>=0.4.0 in e:\\python\\lib\\site-packages (from cmdstanpy>=1.0.4->prophet) (0.5.1)\n",
      "Requirement already satisfied: six>=1.5 in e:\\python\\lib\\site-packages (from python-dateutil>=2.8.2->pandas) (1.17.0)\n",
      "Requirement already satisfied: colorama in e:\\python\\lib\\site-packages (from tqdm>=4.36.1->prophet) (0.4.6)\n"
     ]
    }
   ],
   "source": [
    "!pip install pandas numpy matplotlib seaborn scikit-learn statsmodels prophet xgboost"
   ]
  },
  {
   "cell_type": "code",
   "execution_count": 2,
   "id": "d2019324-3d27-49b2-a9b8-86e553afb574",
   "metadata": {},
   "outputs": [],
   "source": [
    "import pandas as pd\n",
    "import numpy as np\n",
    "import matplotlib.pyplot as plt\n",
    "import seaborn as sns"
   ]
  },
  {
   "cell_type": "code",
   "execution_count": 3,
   "id": "db33dde5-7a71-4a89-88ea-2345b07f875e",
   "metadata": {},
   "outputs": [],
   "source": [
    "from sklearn.metrics import mean_absolute_error, mean_squared_error\n",
    "from math import sqrt"
   ]
  },
  {
   "cell_type": "code",
   "execution_count": 4,
   "id": "7189f4bb-5a82-4337-bee6-928f64124974",
   "metadata": {},
   "outputs": [],
   "source": [
    "from statsmodels.tsa.arima.model import ARIMA\n",
    "from prophet import Prophet\n",
    "import xgboost as xgb"
   ]
  },
  {
   "cell_type": "code",
   "execution_count": 5,
   "id": "7d2b4da6-d327-4f6b-9469-7a802321865e",
   "metadata": {},
   "outputs": [
    {
     "name": "stdout",
     "output_type": "stream",
     "text": [
      "Index(['Date', 'Time', 'Global_active_power', 'Global_reactive_power',\n",
      "       'Voltage', 'Global_intensity', 'Sub_metering_1', 'Sub_metering_2',\n",
      "       'Sub_metering_3'],\n",
      "      dtype='object')\n"
     ]
    }
   ],
   "source": [
    "df = pd.read_csv(\n",
    "    \"household_power_consumption.txt\",\n",
    "    sep=\";\",\n",
    "    low_memory=False,\n",
    "    na_values=[\"?\"]\n",
    ")\n",
    "\n",
    "print(df.columns[:10])"
   ]
  },
  {
   "cell_type": "code",
   "execution_count": 6,
   "id": "2f1d9a2c-7bd4-4730-9f70-778b03aa979c",
   "metadata": {},
   "outputs": [],
   "source": [
    "import warnings\n",
    "warnings.filterwarnings(\"ignore\")"
   ]
  },
  {
   "cell_type": "markdown",
   "id": "87058d67-f36c-4284-bbd4-aa3a9317aceb",
   "metadata": {},
   "source": [
    "**Resampling:**\n",
    "\n",
    "Changing the frequency of data.\n",
    "\n",
    "Example: The dataset records every minute, but we “resample” to hourly average to make it simpler and more meaningful."
   ]
  },
  {
   "cell_type": "code",
   "execution_count": 7,
   "id": "502da246-86f5-4844-9530-a33b0d9a5433",
   "metadata": {},
   "outputs": [
    {
     "name": "stdout",
     "output_type": "stream",
     "text": [
      "Before combining: Index(['Date', 'Time', 'Global_active_power', 'Global_reactive_power',\n",
      "       'Voltage'],\n",
      "      dtype='object')\n",
      "After processing:                      Global_active_power\n",
      "datetime                                \n",
      "2006-12-16 17:00:00             4.222889\n",
      "2006-12-16 18:00:00             3.632200\n",
      "2006-12-16 19:00:00             3.400233\n",
      "2006-12-16 20:00:00             3.268567\n",
      "2006-12-16 21:00:00             3.056467\n",
      "Index type: <class 'pandas.core.indexes.datetimes.DatetimeIndex'>\n"
     ]
    }
   ],
   "source": [
    "# Reloading the same dataset\n",
    "df = pd.read_csv(\n",
    "    \"household_power_consumption.txt\",\n",
    "    sep=\";\",\n",
    "    low_memory=False,\n",
    "    na_values=[\"?\"]\n",
    ")\n",
    "\n",
    "print(\"Before combining:\", df.columns[:5])  # sanity check\n",
    "\n",
    "#Combining Date + Time into datetime\n",
    "df[\"datetime\"] = pd.to_datetime(\n",
    "    df[\"Date\"].astype(str) + \" \" + df[\"Time\"].astype(str),\n",
    "    dayfirst=True,\n",
    "    errors=\"coerce\"\n",
    ")\n",
    "\n",
    "#Keeping only datetime + target\n",
    "df = df[[\"datetime\", \"Global_active_power\"]].dropna()\n",
    "\n",
    "# Converting to float\n",
    "df[\"Global_active_power\"] = df[\"Global_active_power\"].astype(float)\n",
    "\n",
    "# Resampling hourly\n",
    "df = df.set_index(\"datetime\").resample(\"h\").mean()\n",
    "\n",
    "# Fill missing\n",
    "df = df.interpolate(method=\"time\")\n",
    "\n",
    "print(\"After processing:\", df.head())\n",
    "print(\"Index type:\", type(df.index))\n"
   ]
  },
  {
   "cell_type": "markdown",
   "id": "db1ce218-cd0a-4233-bdc1-fb86231490c1",
   "metadata": {},
   "source": [
    "**Train-Test Split**\n",
    "\n",
    "Train data → used to teach the model patterns.\n",
    "\n",
    "\n",
    "\n",
    "Test data → unseen data to check if the model predicts well.\n",
    "\n",
    "\n",
    "In time series, we usually use the past as training and the future as testing."
   ]
  },
  {
   "cell_type": "code",
   "execution_count": 8,
   "id": "88bef02b-1293-44c5-922b-dd20a25e8178",
   "metadata": {},
   "outputs": [],
   "source": [
    "# Using last 30 days as test set\n",
    "train = df.iloc[:-24*30]\n",
    "test  = df.iloc[-24*30:]"
   ]
  },
  {
   "cell_type": "markdown",
   "id": "489b4a8d-2265-43af-be11-c1f376e66c2e",
   "metadata": {},
   "source": [
    "**Feature Engineering**\n",
    "\n",
    "Creating new useful inputs for the model.\n",
    "\n",
    "Example: From datetime, we extract:\n",
    "\n",
    "Hour of day (electricity differs morning vs evening)\n",
    "\n",
    "Day of week (weekdays vs weekends)\n",
    "\n",
    "Month (seasonal changes)\n",
    "\n",
    "Weekend flag (0 = weekday, 1 = weekend)"
   ]
  },
  {
   "cell_type": "code",
   "execution_count": 9,
   "id": "0978b826-445e-4755-b9bc-d0278c161ae4",
   "metadata": {},
   "outputs": [],
   "source": [
    "#Feature engineering for ML models (XGBoost)\n",
    "train_feat = train.copy()\n",
    "test_feat = test.copy()\n",
    "\n",
    "# Adding time-based features\n",
    "for dataset in [train_feat, test_feat]:\n",
    "    dataset[\"hour\"] = dataset.index.hour\n",
    "    dataset[\"dayofweek\"] = dataset.index.dayofweek\n",
    "    dataset[\"month\"] = dataset.index.month\n",
    "    dataset[\"is_weekend\"] = (dataset.index.dayofweek >= 5).astype(int)\n",
    "\n",
    "X_train = train_feat.drop(\"Global_active_power\", axis=1)\n",
    "y_train = train_feat[\"Global_active_power\"]\n",
    "X_test = test_feat.drop(\"Global_active_power\", axis=1)\n",
    "y_test = test_feat[\"Global_active_power\"]\n"
   ]
  },
  {
   "cell_type": "markdown",
   "id": "7a1eed14-8f1d-4860-b1c7-9fd4e779f6a1",
   "metadata": {},
   "source": [
    "**1. ARIMA (Auto-Regressive Integrated Moving Average):**\n",
    "\n",
    "A traditional statistical model for time series. It predicts future values by looking at past values + past errors.Good when data has trends but not too complex patterns.\n",
    "\n",
    "Parameters:\n",
    "\n",
    "p = past values (autoregression)\n",
    "\n",
    "d = differencing (to remove trend)\n",
    "\n",
    "q = past errors (moving average)\n",
    "\n",
    "Think of ARIMA as saying:\n",
    "            “The next hour’s electricity usage depends on the last few hours + some noise correction.”"
   ]
  },
  {
   "cell_type": "code",
   "execution_count": 10,
   "id": "6805e2a3-fcf8-4707-bbb6-539fafc3dcf6",
   "metadata": {},
   "outputs": [],
   "source": [
    "# Using only the target series\n",
    "arima_series = train[\"Global_active_power\"]"
   ]
  },
  {
   "cell_type": "code",
   "execution_count": null,
   "id": "088eaacb-62b6-4af5-a642-5d652166e0b9",
   "metadata": {},
   "outputs": [],
   "source": [
    "# Fit ARIMA model (order chosen manually)\n",
    "arima_model = ARIMA(arima_series, order=(2,1,2))\n",
    "arima_fit = arima_model.fit()"
   ]
  },
  {
   "cell_type": "code",
   "execution_count": null,
   "id": "ca16771a-0764-4606-a9b1-59549a34ef86",
   "metadata": {},
   "outputs": [],
   "source": [
    "# Forecasting for test set length\n",
    "arima_forecast = arima_fit.forecast(steps=len(test))"
   ]
  },
  {
   "cell_type": "code",
   "execution_count": null,
   "id": "2603cec0-8bb8-406d-88cb-4d83d807bac4",
   "metadata": {},
   "outputs": [],
   "source": [
    "# Evaluate the model\n",
    "arima_mae = mean_absolute_error(test[\"Global_active_power\"], arima_forecast)\n",
    "arima_rmse = sqrt(mean_squared_error(test[\"Global_active_power\"], arima_forecast))\n",
    "print(f\"ARIMA → MAE: {arima_mae:.3f}, RMSE: {arima_rmse:.3f}\")"
   ]
  },
  {
   "cell_type": "code",
   "execution_count": null,
   "id": "17fb600a-06e6-44c8-876c-376498b879b5",
   "metadata": {},
   "outputs": [],
   "source": [
    "plt.figure(figsize=(12,5))\n",
    "plt.plot(train.index, train[\"Global_active_power\"], label=\"Train\")\n",
    "plt.plot(test.index, test[\"Global_active_power\"], label=\"Test\")\n",
    "plt.plot(test.index, arima_forecast, label=\"ARIMA Forecast\")\n",
    "plt.legend()\n",
    "plt.title(\"ARIMA Forecast\")\n",
    "plt.show()"
   ]
  },
  {
   "cell_type": "markdown",
   "id": "79de87ed-440e-4065-b5bb-cdd62242e817",
   "metadata": {},
   "source": [
    "**2. Prophet (by Facebook/Meta):**\n",
    "\n",
    "A modern forecasting tool.Handles daily, weekly, yearly seasonality very well (like patterns repeating each day or week).More robust for business/time-based patterns.\n",
    "\n",
    "Easy to use — just feed it a dataframe with ds (date) and y (value).\n",
    "\n",
    "Think of Prophet as: “The model learns repeating patterns in the calendar (weekends, seasons, holidays) and uses them to forecast.”"
   ]
  },
  {
   "cell_type": "code",
   "execution_count": null,
   "id": "17c14dd6-b0d2-4574-aefc-a9464d474ef7",
   "metadata": {},
   "outputs": [],
   "source": [
    "# Prophet requires dataframe with columns \"ds\" and \"y\"\n",
    "prophet_train = train.reset_index()[[\"datetime\", \"Global_active_power\"]].rename(\n",
    "    columns={\"datetime\": \"ds\", \"Global_active_power\": \"y\"}\n",
    ")"
   ]
  },
  {
   "cell_type": "code",
   "execution_count": null,
   "id": "1231fb1b-517a-476e-85a0-8fc5f6f90ec6",
   "metadata": {},
   "outputs": [],
   "source": [
    "# Fitting Prophet model\n",
    "prophet_model = Prophet()\n",
    "prophet_model.fit(prophet_train)"
   ]
  },
  {
   "cell_type": "code",
   "execution_count": null,
   "id": "a40656f9-a48d-4290-9b49-3b2e6e018691",
   "metadata": {},
   "outputs": [],
   "source": [
    "# Creating future dataframe\n",
    "future = prophet_model.make_future_dataframe(periods=len(test), freq=\"H\")\n",
    "forecast = prophet_model.predict(future)"
   ]
  },
  {
   "cell_type": "code",
   "execution_count": null,
   "id": "a21ece8b-a847-42ce-b4f1-89a7270a8519",
   "metadata": {},
   "outputs": [],
   "source": [
    "# Extracting only test part\n",
    "prophet_forecast = forecast.set_index(\"ds\").loc[test.index][\"yhat\"]"
   ]
  },
  {
   "cell_type": "code",
   "execution_count": null,
   "id": "be2a3c7e-17a9-47a9-99e7-a7869f92541c",
   "metadata": {},
   "outputs": [],
   "source": [
    "# Evaluate the model\n",
    "prophet_mae = mean_absolute_error(test[\"Global_active_power\"], prophet_forecast)\n",
    "prophet_rmse = sqrt(mean_squared_error(test[\"Global_active_power\"], prophet_forecast))\n",
    "print(f\"Prophet → MAE: {prophet_mae:.3f}, RMSE: {prophet_rmse:.3f}\")"
   ]
  },
  {
   "cell_type": "code",
   "execution_count": null,
   "id": "3d66fbcd-b97d-4a62-b445-b3d2b7f38aff",
   "metadata": {},
   "outputs": [],
   "source": [
    "plt.figure(figsize=(12,5))\n",
    "plt.plot(train.index, train[\"Global_active_power\"], label=\"Train\")\n",
    "plt.plot(test.index, test[\"Global_active_power\"], label=\"Test\")\n",
    "plt.plot(test.index, prophet_forecast, label=\"Prophet Forecast\")\n",
    "plt.legend()\n",
    "plt.title(\"Prophet Forecast\")\n",
    "plt.show()"
   ]
  },
  {
   "cell_type": "markdown",
   "id": "31790d55-52bf-4707-b40f-50d8bf7b63cd",
   "metadata": {},
   "source": [
    "**3. XGBoost (Extreme Gradient Boosting):**\n",
    "\n",
    "A machine learning model that uses decision trees. It’s not specifically built for time series, but we can make it work by giving it time features (hour, weekday, etc.).\n",
    "\n",
    "Very powerful for capturing complex relationships.\n",
    "\n",
    "Think of XGBoost as: “Instead of only looking at the past values, it uses smart trees to learn how time-related features affect energy usage.”"
   ]
  },
  {
   "cell_type": "code",
   "execution_count": null,
   "id": "503e76bf-f73a-49d1-b763-71f87e7bab7a",
   "metadata": {},
   "outputs": [],
   "source": [
    "# Train XGBoost Regressor\n",
    "xgb_model = xgb.XGBRegressor(\n",
    "    n_estimators=200,\n",
    "    learning_rate=0.1,\n",
    "    max_depth=5,\n",
    "    subsample=0.8,\n",
    "    colsample_bytree=0.8,\n",
    "    random_state=42\n",
    ")\n",
    "xgb_model.fit(X_train, y_train)"
   ]
  },
  {
   "cell_type": "code",
   "execution_count": null,
   "id": "93ca30f2-2849-4d46-a2cb-3581a4d1e451",
   "metadata": {},
   "outputs": [],
   "source": [
    "# Forecast\n",
    "xgb_forecast = xgb_model.predict(X_test)"
   ]
  },
  {
   "cell_type": "code",
   "execution_count": null,
   "id": "4ba6dacf-08dc-4f05-9f0e-7900d75f85dd",
   "metadata": {},
   "outputs": [],
   "source": [
    "# Evaluate the model\n",
    "xgb_mae = mean_absolute_error(y_test, xgb_forecast)\n",
    "xgb_rmse = sqrt(mean_squared_error(y_test, xgb_forecast))\n",
    "print(f\"XGBoost → MAE: {xgb_mae:.3f}, RMSE: {xgb_rmse:.3f}\")"
   ]
  },
  {
   "cell_type": "code",
   "execution_count": null,
   "id": "c590eb1c-8ad5-4af6-98e0-e6dc57e3858a",
   "metadata": {},
   "outputs": [],
   "source": [
    "plt.figure(figsize=(12,5))\n",
    "plt.plot(train.index, train[\"Global_active_power\"], label=\"Train\")\n",
    "plt.plot(test.index, test[\"Global_active_power\"], label=\"Test\")\n",
    "plt.plot(test.index, xgb_forecast, label=\"XGBoost Forecast\")\n",
    "plt.legend()\n",
    "plt.title(\"XGBoost Forecast\")\n",
    "plt.show()"
   ]
  },
  {
   "cell_type": "markdown",
   "id": "1b872503-aa39-42d3-9191-b47894a6b48d",
   "metadata": {},
   "source": [
    "**Evaluation Metrics:**\n",
    "\n",
    "**MAE (Mean Absolute Error):**\n",
    "\n",
    "Average size of the errors (without direction).\n",
    "\n",
    "Example: If the model predicts 4.5 but the actual is 5, the error is 0.5.\n",
    "\n",
    "Smaller MAE = better model.\n",
    "\n",
    "**RMSE (Root Mean Squared Error):**\n",
    "\n",
    "Similar to MAE, but punishes big errors more strongly.\n",
    "\n",
    "Often used in forecasting."
   ]
  },
  {
   "cell_type": "markdown",
   "id": "80f3a6c8-d638-4efb-b812-39d5e659d2c3",
   "metadata": {},
   "source": [
    "**Comparing all models**"
   ]
  },
  {
   "cell_type": "code",
   "execution_count": null,
   "id": "b59e1951-924d-4d4a-b5e1-9d4cede60cf0",
   "metadata": {},
   "outputs": [],
   "source": [
    "results = pd.DataFrame({\n",
    "    \"Model\": [\"ARIMA\", \"Prophet\", \"XGBoost\"],\n",
    "    \"MAE\": [arima_mae, prophet_mae, xgb_mae],\n",
    "    \"RMSE\": [arima_rmse, prophet_rmse, xgb_rmse]\n",
    "})\n"
   ]
  },
  {
   "cell_type": "code",
   "execution_count": null,
   "id": "b6c09c08-caa3-4834-9a1f-f911ac89773d",
   "metadata": {},
   "outputs": [],
   "source": [
    "print(results)"
   ]
  },
  {
   "cell_type": "code",
   "execution_count": null,
   "id": "2985578a-528a-4152-a69f-3086dfdeb63d",
   "metadata": {},
   "outputs": [],
   "source": [
    "sns.barplot(data=results, x=\"Model\", y=\"RMSE\")\n",
    "plt.title(\"Model Comparison (lower is better)\")\n",
    "plt.show()"
   ]
  },
  {
   "cell_type": "markdown",
   "id": "3c337b8e-1d61-4415-b064-2a74960d0c2c",
   "metadata": {},
   "source": [
    "**Summary of Models:**\n",
    "\n",
    "ARIMA → traditional, statistical, works with past values.\n",
    "\n",
    "Prophet → modern, calendar-aware, great for seasonal patterns.\n",
    "\n",
    "XGBoost → machine learning, uses time features for prediction."
   ]
  },
  {
   "cell_type": "markdown",
   "id": "634e13ac-eedf-4939-b600-331d51d02f8c",
   "metadata": {},
   "source": [
    "**Visualization:**\n",
    "\n",
    "We plot actual vs forecasted energy usage to see how well each model follows the real data.\n",
    "\n",
    "Helps quickly see which model performs better."
   ]
  }
 ],
 "metadata": {
  "kernelspec": {
   "display_name": "Python 3 (ipykernel)",
   "language": "python",
   "name": "python3"
  },
  "language_info": {
   "codemirror_mode": {
    "name": "ipython",
    "version": 3
   },
   "file_extension": ".py",
   "mimetype": "text/x-python",
   "name": "python",
   "nbconvert_exporter": "python",
   "pygments_lexer": "ipython3",
   "version": "3.12.6"
  }
 },
 "nbformat": 4,
 "nbformat_minor": 5
}
